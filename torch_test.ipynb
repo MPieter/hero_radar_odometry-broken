{
 "cells": [
  {
   "cell_type": "code",
   "execution_count": 41,
   "metadata": {},
   "outputs": [
    {
     "data": {
      "text/plain": [
       "(array([-1.57079633e+00, -1.21537513e+00, -1.06543582e+00, -9.48427838e-01,\n",
       "        -8.48062079e-01, -7.58040765e-01, -6.75131533e-01, -5.97406417e-01,\n",
       "        -5.23598776e-01, -4.52816595e-01, -3.84396774e-01, -3.17823704e-01,\n",
       "        -2.52680255e-01, -1.88616386e-01, -1.25327831e-01, -6.25407618e-02,\n",
       "         1.13086389e-15,  6.25407618e-02,  1.25327831e-01,  1.88616386e-01,\n",
       "         2.52680255e-01,  3.17823704e-01,  3.84396774e-01,  4.52816595e-01,\n",
       "         5.23598776e-01,  5.97406417e-01,  6.75131533e-01,  7.58040765e-01,\n",
       "         8.48062079e-01,  9.48427838e-01,  1.06543582e+00,  1.21537513e+00]),\n",
       " array([ 0.      ,  0.073125,  0.14625 ,  0.219375,  0.2925  ,  0.365625,\n",
       "         0.43875 ,  0.511875,  0.585   ,  0.658125,  0.73125 ,  0.804375,\n",
       "         0.8775  ,  0.950625,  1.02375 ,  1.096875,  1.17    ,  1.243125,\n",
       "         1.31625 ,  1.389375,  1.4625  ,  1.535625,  1.60875 ,  1.681875,\n",
       "         1.755   ,  1.828125,  1.90125 ,  1.974375,  2.0475  ,  2.120625,\n",
       "         2.19375 ,  2.266875,  2.34    ,  2.413125,  2.48625 ,  2.559375,\n",
       "         2.6325  ,  2.705625,  2.77875 ,  2.851875,  2.925   ,  2.998125,\n",
       "         3.07125 ,  3.144375,  3.2175  ,  3.290625,  3.36375 ,  3.436875,\n",
       "         3.51    ,  3.583125,  3.65625 ,  3.729375,  3.8025  ,  3.875625,\n",
       "         3.94875 ,  4.021875,  4.095   ,  4.168125,  4.24125 ,  4.314375,\n",
       "         4.3875  ,  4.460625,  4.53375 ,  4.606875,  4.68    ,  4.753125,\n",
       "         4.82625 ,  4.899375,  4.9725  ,  5.045625,  5.11875 ,  5.191875,\n",
       "         5.265   ,  5.338125,  5.41125 ,  5.484375,  5.5575  ,  5.630625,\n",
       "         5.70375 ,  5.776875,  5.85    ,  5.923125,  5.99625 ,  6.069375,\n",
       "         6.1425  ,  6.215625,  6.28875 ,  6.361875,  6.435   ,  6.508125,\n",
       "         6.58125 ,  6.654375,  6.7275  ,  6.800625,  6.87375 ,  6.946875,\n",
       "         7.02    ,  7.093125,  7.16625 ,  7.239375,  7.3125  ,  7.385625,\n",
       "         7.45875 ,  7.531875,  7.605   ,  7.678125,  7.75125 ,  7.824375,\n",
       "         7.8975  ,  7.970625,  8.04375 ,  8.116875,  8.19    ,  8.263125,\n",
       "         8.33625 ,  8.409375,  8.4825  ,  8.555625,  8.62875 ,  8.701875,\n",
       "         8.775   ,  8.848125,  8.92125 ,  8.994375,  9.0675  ,  9.140625,\n",
       "         9.21375 ,  9.286875,  9.36    ,  9.433125,  9.50625 ,  9.579375,\n",
       "         9.6525  ,  9.725625,  9.79875 ,  9.871875,  9.945   , 10.018125,\n",
       "        10.09125 , 10.164375, 10.2375  , 10.310625, 10.38375 , 10.456875,\n",
       "        10.53    , 10.603125, 10.67625 , 10.749375, 10.8225  , 10.895625,\n",
       "        10.96875 , 11.041875, 11.115   , 11.188125, 11.26125 , 11.334375,\n",
       "        11.4075  , 11.480625, 11.55375 , 11.626875, 11.7     , 11.773125,\n",
       "        11.84625 , 11.919375, 11.9925  , 12.065625, 12.13875 , 12.211875,\n",
       "        12.285   , 12.358125, 12.43125 , 12.504375, 12.5775  , 12.650625,\n",
       "        12.72375 , 12.796875, 12.87    , 12.943125, 13.01625 , 13.089375,\n",
       "        13.1625  , 13.235625, 13.30875 , 13.381875, 13.455   , 13.528125,\n",
       "        13.60125 , 13.674375, 13.7475  , 13.820625, 13.89375 , 13.966875,\n",
       "        14.04    , 14.113125, 14.18625 , 14.259375, 14.3325  , 14.405625,\n",
       "        14.47875 , 14.551875, 14.625   , 14.698125, 14.77125 , 14.844375,\n",
       "        14.9175  , 14.990625, 15.06375 , 15.136875, 15.21    , 15.283125,\n",
       "        15.35625 , 15.429375, 15.5025  , 15.575625, 15.64875 , 15.721875,\n",
       "        15.795   , 15.868125, 15.94125 , 16.014375, 16.0875  , 16.160625,\n",
       "        16.23375 , 16.306875, 16.38    , 16.453125, 16.52625 , 16.599375,\n",
       "        16.6725  , 16.745625, 16.81875 , 16.891875, 16.965   , 17.038125,\n",
       "        17.11125 , 17.184375, 17.2575  , 17.330625, 17.40375 , 17.476875,\n",
       "        17.55    , 17.623125, 17.69625 , 17.769375, 17.8425  , 17.915625,\n",
       "        17.98875 , 18.061875, 18.135   , 18.208125, 18.28125 , 18.354375,\n",
       "        18.4275  , 18.500625, 18.57375 , 18.646875]),\n",
       " 32,\n",
       " torch.Size([256]))"
      ]
     },
     "execution_count": 41,
     "metadata": {},
     "output_type": "execute_result"
    }
   ],
   "source": [
    "import numpy as np\n",
    "import torch\n",
    "\n",
    "rangeBins = np.loadtxt('rangeBins.txt')\n",
    "azimuthBins = np.loadtxt('azimuthBins.txt')\n",
    "\n",
    "rangeBinsTensor = torch.from_numpy(rangeBins)\n",
    "azimuthBinsTensor = torch.from_numpy(azimuthBins)\n",
    "\n",
    "azimuthBins, rangeBins, azimuthBinsTensor.shape[0], rangeBinsTensor.shape"
   ]
  },
  {
   "cell_type": "code",
   "execution_count": 40,
   "metadata": {},
   "outputs": [
    {
     "data": {
      "text/plain": [
       "(torch.Size([2, 3, 2]),\n",
       " tensor([[[0.1062],\n",
       "          [0.1705],\n",
       "          [0.3186]],\n",
       " \n",
       "         [[0.0658],\n",
       "          [0.0571],\n",
       "          [0.0000]]], dtype=torch.float64),\n",
       " tensor([[[-0.1005],\n",
       "          [-0.2377],\n",
       "          [-0.3016]],\n",
       " \n",
       "         [[-0.0320],\n",
       "          [-0.0457],\n",
       "          [-0.0000]]], dtype=torch.float64),\n",
       " tensor([[[ 0.1062, -0.1005],\n",
       "          [ 0.1705, -0.2377],\n",
       "          [ 0.3186, -0.3016]],\n",
       " \n",
       "         [[ 0.0658, -0.0320],\n",
       "          [ 0.0571, -0.0457],\n",
       "          [ 0.0000, -0.0000]]], dtype=torch.float64))"
      ]
     },
     "execution_count": 40,
     "metadata": {},
     "output_type": "execute_result"
    }
   ],
   "source": [
    "polar_coords = torch.from_numpy(np.array([[\n",
    "    [5, 2],\n",
    "    [3, 4],\n",
    "    [5, 6]\n",
    "], [\n",
    "    [9, 1],\n",
    "    [6, 1],\n",
    "    [3, 0]\n",
    "]]))\n",
    "B, N, _ = polar_coords.size()\n",
    "\n",
    "\n",
    "azimuth_idxs = torch.index_select(polar_coords, 2, torch.tensor([0]))  # B x N x 1\n",
    "range_idxs = torch.index_select(polar_coords, 2, torch.tensor([1]))  # B x N x 1\n",
    "\n",
    "_azimuthBinsTensor = torch.reshape(azimuthBinsTensor, (1, 1, azimuthBinsTensor.shape[0]))\n",
    "_rangeBinsTensor = torch.reshape(rangeBinsTensor, (1, 1, rangeBinsTensor.shape[0]))\n",
    "\n",
    "_azimuthBinsTensor = _azimuthBinsTensor.expand(B, N, -1)\n",
    "_rangeBinsTensor = _rangeBinsTensor.expand(B, N, -1)\n",
    "azimuths = torch.gather(_azimuthBinsTensor, 2, azimuth_idxs)  # B x N x 1\n",
    "ranges = torch.gather(_rangeBinsTensor, 2, range_idxs)  # B x N x 1\n",
    "\n",
    "x = torch.mul(ranges, torch.cos(azimuths))\n",
    "y = torch.mul(ranges, torch.sin(azimuths))\n",
    "\n",
    "result = torch.cat((x, y), 2)\n",
    "\n",
    "\n",
    "# _azimuthBinsTensor.shape, _rangeBinsTensor.shape, azimuth_idxs.shape, range_idxs.shape, azimuths.shape, ranges.shape\n",
    "result.shape, x, y, result\n"
   ]
  },
  {
   "cell_type": "code",
   "execution_count": 20,
   "metadata": {},
   "outputs": [
    {
     "data": {
      "text/plain": [
       "(tensor([1, 2, 3]),\n",
       " tensor([2, 3, 4]),\n",
       " tensor([ 2,  6, 12]),\n",
       " tensor([ 0.5403, -0.4161, -0.9900]))"
      ]
     },
     "execution_count": 20,
     "metadata": {},
     "output_type": "execute_result"
    }
   ],
   "source": [
    "a = torch.from_numpy(np.array([1, 2, 3]))\n",
    "b = torch.from_numpy(np.array([2, 3, 4]))\n",
    "c = torch.mul(a, b)\n",
    "\n",
    "a,b,c, torch.cos(a)\n"
   ]
  }
 ],
 "metadata": {
  "interpreter": {
   "hash": "31f2aee4e71d21fbe5cf8b01ff0e069b9275f58929596ceb00d14d90e3e16cd6"
  },
  "kernelspec": {
   "display_name": "Python 3.8.9 64-bit",
   "language": "python",
   "name": "python3"
  },
  "language_info": {
   "codemirror_mode": {
    "name": "ipython",
    "version": 3
   },
   "file_extension": ".py",
   "mimetype": "text/x-python",
   "name": "python",
   "nbconvert_exporter": "python",
   "pygments_lexer": "ipython3",
   "version": "3.8.9"
  },
  "orig_nbformat": 4
 },
 "nbformat": 4,
 "nbformat_minor": 2
}
